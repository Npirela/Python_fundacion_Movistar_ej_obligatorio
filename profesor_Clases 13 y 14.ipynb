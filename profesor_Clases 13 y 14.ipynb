{
 "cells": [
  {
   "cell_type": "markdown",
   "id": "be528e89",
   "metadata": {},
   "source": [
    "<div class=\"alert alert-info\">\n",
    "    <h1>Clase 13 - POO</h1>\n",
    "</div>"
   ]
  },
  {
   "cell_type": "markdown",
   "id": "1a75ff07",
   "metadata": {},
   "source": [
    "### Clases"
   ]
  },
  {
   "cell_type": "code",
   "execution_count": 2,
   "id": "112f4bbd",
   "metadata": {},
   "outputs": [],
   "source": [
    "# Definicición de una clase.\n",
    "class Cliente:\n",
    "    pass"
   ]
  },
  {
   "cell_type": "markdown",
   "id": "4f44cf25",
   "metadata": {},
   "source": [
    "#### Atributos"
   ]
  },
  {
   "cell_type": "code",
   "execution_count": 22,
   "id": "89487b80",
   "metadata": {},
   "outputs": [],
   "source": [
    "class Cliente:\n",
    "    nombre = ''\n",
    "    apellido = ''\n",
    "    dni = ''"
   ]
  },
  {
   "cell_type": "markdown",
   "id": "2cb97074",
   "metadata": {},
   "source": [
    "#### Métodos"
   ]
  },
  {
   "cell_type": "code",
   "execution_count": 4,
   "id": "a146e747",
   "metadata": {},
   "outputs": [],
   "source": [
    "class Cliente:\n",
    "    # Atributos\n",
    "    nombre = ''\n",
    "    apellido = ''\n",
    "    dni = ''\n",
    "    \n",
    "    # Métodos\n",
    "    def saludar(self):\n",
    "        mensaje = \"Hola mundo\"\n",
    "        return mensaje\n",
    "    "
   ]
  },
  {
   "cell_type": "markdown",
   "id": "993333ec",
   "metadata": {},
   "source": [
    "### Objetos"
   ]
  },
  {
   "cell_type": "code",
   "execution_count": 18,
   "id": "b9910958",
   "metadata": {},
   "outputs": [
    {
     "name": "stdout",
     "output_type": "stream",
     "text": [
      "sin datos\n",
      "Verde\n",
      "sin datos\n"
     ]
    }
   ],
   "source": [
    "# Un objeto nace de INSTANCIAR una clase.\n",
    "class Auto:\n",
    "    color = 'sin datos'\n",
    "    puertas = 'sin datos'\n",
    "    combustible = 'sin datos'\n",
    "    \n",
    "    def pintar(self,pintura):\n",
    "        self.color = pintura\n",
    "    \n",
    "# Instancio la clase, es decir, creo un objeto.\n",
    "torino = Auto()\n",
    "fiat = Auto()\n",
    "\n",
    "# Usar los objetos\n",
    "print(fiat.color)\n",
    "fiat.pintar('Verde')\n",
    "print(fiat.color)\n",
    "print(torino.color)"
   ]
  },
  {
   "cell_type": "code",
   "execution_count": 20,
   "id": "d039da5d",
   "metadata": {},
   "outputs": [
    {
     "name": "stdout",
     "output_type": "stream",
     "text": [
      "18\n"
     ]
    }
   ],
   "source": [
    "#### Ejercicio de práctica.\n",
    "# Hacer una clase Calculadora,con un método llamado sumar que reciba dos argumentos y los sume.\n",
    "\n",
    "class Calculadora():\n",
    "    def sumar(self,a,b):\n",
    "        res = a+b\n",
    "        print(res)\n",
    "        # return res\n",
    "    \n",
    "# Instancio la clase\n",
    "casio = Calculadora()\n",
    "casio.sumar(3,15)\n",
    "#print(a)"
   ]
  },
  {
   "cell_type": "markdown",
   "id": "95f949fb",
   "metadata": {},
   "source": [
    "#### Creación de atributos"
   ]
  },
  {
   "cell_type": "code",
   "execution_count": 24,
   "id": "770c253c",
   "metadata": {},
   "outputs": [
    {
     "name": "stdout",
     "output_type": "stream",
     "text": [
      "blanco\n",
      "2\n"
     ]
    }
   ],
   "source": [
    "class Moto:\n",
    "    pass\n",
    "\n",
    "yamaha = Moto()\n",
    "yamaha.color = 'blanco'\n",
    "yamaha.ruedas = 2\n",
    "\n",
    "print(yamaha.color)\n",
    "print(yamaha.ruedas)"
   ]
  },
  {
   "cell_type": "markdown",
   "id": "97ca87d4",
   "metadata": {},
   "source": [
    "### Método INIT"
   ]
  },
  {
   "cell_type": "code",
   "execution_count": 4,
   "id": "12f5616b",
   "metadata": {},
   "outputs": [
    {
     "name": "stdout",
     "output_type": "stream",
     "text": [
      "Hemos creado un objeto Persona\n",
      "Cantidad de ojos:  16\n"
     ]
    }
   ],
   "source": [
    "class Persona():\n",
    "    #ojos = 2\n",
    "    \n",
    "    def __init__(self):\n",
    "        print(\"Hemos creado un objeto Persona\")\n",
    "        self.ojos = 16\n",
    "        \n",
    "pepe = Persona()\n",
    "print('Cantidad de ojos: ',pepe.ojos)"
   ]
  },
  {
   "cell_type": "markdown",
   "id": "5913e1ba",
   "metadata": {},
   "source": [
    "#### Método INIT con parámetros"
   ]
  },
  {
   "cell_type": "code",
   "execution_count": 9,
   "id": "f033ca72",
   "metadata": {},
   "outputs": [
    {
     "name": "stdout",
     "output_type": "stream",
     "text": [
      "Color del auto fiat azul\n",
      "cantidad de puertas del auto: 4\n"
     ]
    }
   ],
   "source": [
    "# Defino la clase\n",
    "class Auto:\n",
    "    def __init__(self,color,puertas):\n",
    "        self.color = color\n",
    "        self.puertas = puertas\n",
    "        \n",
    "# Creamos el objeto\n",
    "fiat = Auto('azul',4)\n",
    "\n",
    "# Verifico los atributos\n",
    "print(\"Color del auto fiat {}\".format(fiat.color))\n",
    "print('cantidad de puertas del auto: {}'.format(fiat.puertas))"
   ]
  },
  {
   "cell_type": "code",
   "execution_count": 10,
   "id": "39b29b4f",
   "metadata": {},
   "outputs": [],
   "source": [
    "# Ejercicio propuesto:\n",
    "# Declarar una clase Cliente con los atributos nombre y apellido.\n",
    "# Al ser instanciada, debe pedir el ingreso por teclado de los valores de dichos atributos.\n",
    "# Luego de ingresar los datos debe mostrar un mensaje notificando que se ha creado un nuevo cliente\n",
    "# y que además muestre los valores ingresados."
   ]
  },
  {
   "cell_type": "code",
   "execution_count": 13,
   "id": "22bef8a9",
   "metadata": {},
   "outputs": [
    {
     "name": "stdout",
     "output_type": "stream",
     "text": [
      "ingrese nombre: qwq\n",
      "Ingrese apellido: qwqwq\n",
      "Se ha creado el cliente: qwq, qwqwq\n"
     ]
    }
   ],
   "source": [
    "class Cliente:\n",
    "    def __init__(self):\n",
    "        self.nombre = input(\"ingrese nombre: \")\n",
    "        self.apellido = input(\"Ingrese apellido: \")\n",
    "        print('Se ha creado el cliente: {}, {}'.format(self.nombre,self.apellido))\n",
    "        \n",
    "gma = Cliente()"
   ]
  },
  {
   "cell_type": "markdown",
   "id": "27e65154",
   "metadata": {},
   "source": [
    "#### Método destructor"
   ]
  },
  {
   "cell_type": "code",
   "execution_count": 16,
   "id": "f5bc1d3b",
   "metadata": {},
   "outputs": [
    {
     "name": "stdout",
     "output_type": "stream",
     "text": [
      "ingrese nombre: qwqw\n",
      "Ingrese apellido: qwqw\n",
      "Se ha creado el cliente: qwqw, qwqw\n"
     ]
    }
   ],
   "source": [
    "class Cliente:\n",
    "    def __init__(self):\n",
    "        self.nombre = input(\"ingrese nombre: \")\n",
    "        self.apellido = input(\"Ingrese apellido: \")\n",
    "        print('Se ha creado el cliente: {}, {}'.format(self.nombre,self.apellido))\n",
    "        \n",
    "    def __del__(self):\n",
    "        print('Objeto eliminado')\n",
    "        \n",
    "gma = Cliente()\n",
    "\n",
    "del(gma)"
   ]
  },
  {
   "cell_type": "markdown",
   "id": "e41d5246",
   "metadata": {},
   "source": [
    "#### Encapsulado"
   ]
  },
  {
   "cell_type": "code",
   "execution_count": 27,
   "id": "c3639135",
   "metadata": {},
   "outputs": [
    {
     "name": "stdout",
     "output_type": "stream",
     "text": [
      "Guillermo\n",
      "Este es un método privado\n"
     ]
    }
   ],
   "source": [
    "class Alumno:\n",
    "    __nombre = \"Guillermo\"\n",
    "    \n",
    "    def __metodo(self):\n",
    "        print(\"Este es un método privado\")\n",
    "        \n",
    "    def get_atributo(self):\n",
    "        # Acá va todala seguridad que necesite programar.\n",
    "        return self.__nombre\n",
    "    \n",
    "    def get_metodo(self):\n",
    "        # Acá va toda la seguridad o condiciones.\n",
    "        return self.__metodo()\n",
    "    \n",
    "# Crear el objeto\n",
    "gma2 = Alumno()\n",
    "\n",
    "print(gma2.get_atributo())\n",
    "\n",
    "gma2.get_metodo()"
   ]
  },
  {
   "cell_type": "markdown",
   "id": "83eba527",
   "metadata": {},
   "source": [
    "#### Herencia"
   ]
  },
  {
   "cell_type": "code",
   "execution_count": 32,
   "id": "a8df8683",
   "metadata": {},
   "outputs": [],
   "source": [
    "class Empleado():\n",
    "    ojos = 2\n",
    "    def __init__(self):\n",
    "        self.nombre = input('Nombre: ')\n",
    "        self.apellido = input('Apellido: ')\n",
    "        \n",
    "class Gerente(Empleado):\n",
    "    def __init__(self):\n",
    "        super().__init__()\n",
    "        self.gerencia = input('Ingrese la gerencia: ')"
   ]
  },
  {
   "cell_type": "code",
   "execution_count": 29,
   "id": "8f95446e",
   "metadata": {},
   "outputs": [
    {
     "name": "stdout",
     "output_type": "stream",
     "text": [
      "Nombre: Pepe\n",
      "Apellido: Rodríguez\n"
     ]
    }
   ],
   "source": [
    "empleado1 = Empleado()"
   ]
  },
  {
   "cell_type": "code",
   "execution_count": 33,
   "id": "6c183476",
   "metadata": {},
   "outputs": [
    {
     "name": "stdout",
     "output_type": "stream",
     "text": [
      "Nombre: qwqw\n",
      "Apellido: ererere\n",
      "Ingrese la gerencia: wewwew\n"
     ]
    }
   ],
   "source": [
    "gerente1 = Gerente()\n"
   ]
  },
  {
   "cell_type": "code",
   "execution_count": 34,
   "id": "91c3f4ae",
   "metadata": {},
   "outputs": [
    {
     "name": "stdout",
     "output_type": "stream",
     "text": [
      "2\n"
     ]
    }
   ],
   "source": [
    "print(gerente1.ojos)"
   ]
  },
  {
   "cell_type": "markdown",
   "id": "ac8b6edb",
   "metadata": {},
   "source": [
    "#### Método especial STR"
   ]
  },
  {
   "cell_type": "code",
   "execution_count": 39,
   "id": "27c519e3",
   "metadata": {},
   "outputs": [
    {
     "name": "stdout",
     "output_type": "stream",
     "text": [
      "ingrese nombre: Guiilermo\n",
      "Ingrese apellido: Alfaro\n",
      "Se ha creado el cliente: Guiilermo, Alfaro\n"
     ]
    }
   ],
   "source": [
    "class Profesor:\n",
    "    def __init__(self):\n",
    "        self.nombre = input(\"ingrese nombre: \")\n",
    "        self.apellido = input(\"Ingrese apellido: \")\n",
    "        print('Se ha creado el cliente: {}, {}'.format(self.nombre,self.apellido))\n",
    "        \n",
    "    def __str__(self):\n",
    "        mensaje = self.apellido+', '+self.nombre\n",
    "        return mensaje\n",
    "        \n",
    "obj1 = Profesor()"
   ]
  },
  {
   "cell_type": "code",
   "execution_count": 40,
   "id": "b96c0a6e",
   "metadata": {},
   "outputs": [
    {
     "name": "stdout",
     "output_type": "stream",
     "text": [
      "Alfaro, Guiilermo\n"
     ]
    }
   ],
   "source": [
    "print(obj1)"
   ]
  },
  {
   "cell_type": "code",
   "execution_count": null,
   "id": "80aa09c8",
   "metadata": {},
   "outputs": [],
   "source": []
  }
 ],
 "metadata": {
  "kernelspec": {
   "display_name": "Python 3 (ipykernel)",
   "language": "python",
   "name": "python3"
  },
  "language_info": {
   "codemirror_mode": {
    "name": "ipython",
    "version": 3
   },
   "file_extension": ".py",
   "mimetype": "text/x-python",
   "name": "python",
   "nbconvert_exporter": "python",
   "pygments_lexer": "ipython3",
   "version": "3.10.5"
  }
 },
 "nbformat": 4,
 "nbformat_minor": 5
}
