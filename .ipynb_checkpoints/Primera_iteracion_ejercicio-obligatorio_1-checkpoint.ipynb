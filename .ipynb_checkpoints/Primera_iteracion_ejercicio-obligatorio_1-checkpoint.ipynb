{
 "cells": [
  {
   "cell_type": "markdown",
   "id": "a2a440b9",
   "metadata": {},
   "source": [
    "<div class=\"jumbotron\">\n",
    "      <h1>Nolberto Pirela</h1>\n",
    "          <p>Entrega de Trabajo Final #1</p>\n",
    "  \n",
    "</div>"
   ]
  },
  {
   "cell_type": "markdown",
   "id": "e620f1fd",
   "metadata": {},
   "source": [
    "<div class=\"alert alert-info\" role=\"alert\">\n",
    "    <p><span><b>Ejercicio 1.</b></span>\n",
    "        \n",
    "Crear una función que reciba una cantidad variable de números enteros y\n",
    "retorne la suma de todos.\n",
    "Por ejemplo, si le pasamos los números 1,3 y 5, deberá devolver el número\n",
    "9.\n",
    "El código debe funcionar para cualquier cantidad de números que le\n",
    "      pasemos como argumentos.</p>\n",
    "</div>"
   ]
  },
  {
   "cell_type": "code",
   "execution_count": null,
   "id": "aa8f3557",
   "metadata": {},
   "outputs": [],
   "source": []
  }
 ],
 "metadata": {
  "kernelspec": {
   "display_name": "Python 3 (ipykernel)",
   "language": "python",
   "name": "python3"
  },
  "language_info": {
   "codemirror_mode": {
    "name": "ipython",
    "version": 3
   },
   "file_extension": ".py",
   "mimetype": "text/x-python",
   "name": "python",
   "nbconvert_exporter": "python",
   "pygments_lexer": "ipython3",
   "version": "3.10.5"
  }
 },
 "nbformat": 4,
 "nbformat_minor": 5
}
