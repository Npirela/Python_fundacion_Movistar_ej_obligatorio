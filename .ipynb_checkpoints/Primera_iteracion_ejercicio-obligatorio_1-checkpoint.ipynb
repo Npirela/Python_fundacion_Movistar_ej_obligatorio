{
 "cells": [
  {
   "cell_type": "markdown",
   "id": "7bae9022",
   "metadata": {},
   "source": [
    "<div class=\"jumbotron\">\n",
    "      <h1>Nolberto Pirela</h1>\n",
    "          <p>Entrega de Trabajo Final #1</p>\n",
    "  \n",
    "</div>"
   ]
  },
  {
   "cell_type": "markdown",
   "id": "12eb0e50",
   "metadata": {},
   "source": [
    "<div class=\"alert alert-info\" role=\"alert\">\n",
    "    <p><span><b>Ejercicio 1.</b></span>\n",
    "        \n",
    "Crear una función que reciba una cantidad variable de números enteros y\n",
    "retorne la suma de todos.\n",
    "Por ejemplo, si le pasamos los números 1,3 y 5, deberá devolver el número\n",
    "9.\n",
    "El código debe funcionar para cualquier cantidad de números que le\n",
    "      pasemos como argumentos.</p>\n",
    "</div>"
   ]
  },
  {
   "attachments": {
    "image.png": {
     "image/png": "[encoded data removed]"
    }
   },
   "cell_type": "markdown",
   "id": "020bf106",
   "metadata": {},
   "source": [
    "![image.png](attachment:image.png)"
   ]
  },
  {
   "cell_type": "markdown",
   "id": "585fdcb3",
   "metadata": {},
   "source": [
    "# Iteracion 1"
   ]
  },
  {
   "cell_type": "code",
   "execution_count": 6,
   "id": "9e084040",
   "metadata": {},
   "outputs": [
    {
     "name": "stdout",
     "output_type": "stream",
     "text": [
      "Los numeros recibidos son (9, 8, 7, 6, 5, 4, 3, 2, 1, 0) \n",
      "La suma de los mismos es = 45 \n"
     ]
    }
   ],
   "source": [
    "def suma_Numeros(*numeros):\n",
    "    print(\"Los numeros recibidos son {} \".format(numeros))\n",
    "    print(\"La suma de los mismos es = {} \".format(sum(list(numeros))))\n",
    "    \n",
    "\n",
    "suma_Numeros(9,8,7,6,5,4,3,2,1,0)"
   ]
  },
  {
   "cell_type": "markdown",
   "id": "300222ee",
   "metadata": {},
   "source": [
    "# Material de apoyo:"
   ]
  },
  {
   "cell_type": "markdown",
   "id": "c191f6f4",
   "metadata": {},
   "source": [
    "# <div class=\"list-group\">\n",
    "  <a href=\"https://recursospython.com/guias-y-manuales/argumentos-args-kwargs/\" class=\"list-group-item active\">\n",
    "    Argumentos en Funciones\n",
    "  </a>\n",
    "  <a href=\"https://www.programiz.com/python-programming/methods/built-in/list\" class=\"list-group-item\">Listas en python</a>\n",
    "  <a href=\"https://sites.google.com/site/cursodepython/primer-clase/argumentos-de-funciones\" class=\"list-group-item\">Argumentos de Funciones</a>\n",
    "  <a href=\"https://es.acervolima.com/python-suma-de-elementos-de-tupla/\" class=\"list-group-item\">tuplas</a>\n",
    "  <a href=\"https://www.freecodecamp.org/espanol/news/guia-de-funciones-de-python-con-ejemplos/#:~:text=Las%20funciones%20en%20Python%20se,funci%C3%B3n%20siempre%20devuelve%20un%20valor.\" class=\"list-group-item\">Funciones en python</a>\n",
    "</div>"
   ]
  },
  {
   "cell_type": "markdown",
   "id": "cffd6a4a",
   "metadata": {},
   "source": [
    "<div class=\"alert alert-info\" role=\"alert\">\n",
    "    <p><span><b>Ejercicio 2.</b></span>\n",
    "        \n",
    "Escribir una función que, a partir de una lista pasada como argumento,\n",
    "retorne una lista de tuplas conteniendo todas las combinaciones de 2\n",
    "números que sea posible formar, combinando a cada número con todos los\n",
    "números de la lista.</p>\n",
    "</div>"
   ]
  },
  {
   "attachments": {
    "image.png": {
     "image/png": "[encoded data removed]"
    }
   },
   "cell_type": "markdown",
   "id": "febdfcf8",
   "metadata": {},
   "source": [
    "![image.png](attachment:image.png)"
   ]
  },
  {
   "cell_type": "code",
   "execution_count": null,
   "id": "0ae63d9a",
   "metadata": {},
   "outputs": [],
   "source": []
  }
 ],
 "metadata": {
  "kernelspec": {
   "display_name": "Python 3 (ipykernel)",
   "language": "python",
   "name": "python3"
  },
  "language_info": {
   "codemirror_mode": {
    "name": "ipython",
    "version": 3
   },
   "file_extension": ".py",
   "mimetype": "text/x-python",
   "name": "python",
   "nbconvert_exporter": "python",
   "pygments_lexer": "ipython3",
   "version": "3.10.5"
  }
 },
 "nbformat": 4,
 "nbformat_minor": 5
}
