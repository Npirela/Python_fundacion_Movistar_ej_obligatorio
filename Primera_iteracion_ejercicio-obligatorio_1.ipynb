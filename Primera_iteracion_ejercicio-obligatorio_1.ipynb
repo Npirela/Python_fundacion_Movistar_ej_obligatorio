{
 "cells": [
  {
   "cell_type": "markdown",
   "id": "433c62c3",
   "metadata": {},
   "source": [
    "<div class=\"jumbotron\">\n",
    "      <h1>Nolberto Pirela</h1>\n",
    "          <p>Entrega de Trabajo Final #1</p>\n",
    "  \n",
    "</div>"
   ]
  },
  {
   "cell_type": "markdown",
   "id": "ec4c5904",
   "metadata": {},
   "source": [
    "<div class=\"alert alert-info\" role=\"alert\">\n",
    "    <p><span><b>Ejercicio 1.</b></span>\n",
    "        \n",
    "Crear una función que reciba una cantidad variable de números enteros y\n",
    "retorne la suma de todos.\n",
    "Por ejemplo, si le pasamos los números 1,3 y 5, deberá devolver el número\n",
    "9.\n",
    "El código debe funcionar para cualquier cantidad de números que le\n",
    "      pasemos como argumentos.</p>\n",
    "</div>"
   ]
  },
  {
   "attachments": {
    "image.png": {
     "image/png": "[encoded data removed]"
    }
   },
   "cell_type": "markdown",
   "id": "d768518e",
   "metadata": {},
   "source": [
    "![image.png](attachment:image.png)"
   ]
  },
  {
   "cell_type": "markdown",
   "id": "7ecd51a7",
   "metadata": {},
   "source": [
    "# Iteracion 1"
   ]
  },
  {
   "cell_type": "code",
   "execution_count": 6,
   "id": "5488af48",
   "metadata": {},
   "outputs": [
    {
     "name": "stdout",
     "output_type": "stream",
     "text": [
      "Los numeros recibidos son (9, 8, 7, 6, 5, 4, 3, 2, 1, 0) \n",
      "La suma de los mismos es = 45 \n"
     ]
    }
   ],
   "source": [
    "def suma_Numeros(*numeros):\n",
    "    print(\"Los numeros recibidos son {} \".format(numeros))\n",
    "    print(\"La suma de los mismos es = {} \".format(sum(list(numeros))))\n",
    "    \n",
    "\n",
    "suma_Numeros(9,8,7,6,5,4,3,2,1,0)"
   ]
  },
  {
   "cell_type": "markdown",
   "id": "9b443fbe",
   "metadata": {},
   "source": [
    "# Material de apoyo:"
   ]
  },
  {
   "cell_type": "markdown",
   "id": "f9c0886f",
   "metadata": {},
   "source": [
    "# <div class=\"list-group\">\n",
    "  <a href=\"https://recursospython.com/guias-y-manuales/argumentos-args-kwargs/\" class=\"list-group-item active\">\n",
    "    Argumentos en Funciones\n",
    "  </a>\n",
    "  <a href=\"https://www.programiz.com/python-programming/methods/built-in/list\" class=\"list-group-item\">Listas en python</a>\n",
    "  <a href=\"https://sites.google.com/site/cursodepython/primer-clase/argumentos-de-funciones\" class=\"list-group-item\">Argumentos de Funciones</a>\n",
    "  <a href=\"https://es.acervolima.com/python-suma-de-elementos-de-tupla/\" class=\"list-group-item\">tuplas</a>\n",
    "  <a href=\"https://www.freecodecamp.org/espanol/news/guia-de-funciones-de-python-con-ejemplos/#:~:text=Las%20funciones%20en%20Python%20se,funci%C3%B3n%20siempre%20devuelve%20un%20valor.\" class=\"list-group-item\">Funciones en python</a>\n",
    "</div>"
   ]
  },
  {
   "cell_type": "code",
   "execution_count": null,
   "id": "eab5cafc",
   "metadata": {},
   "outputs": [],
   "source": []
  }
 ],
 "metadata": {
  "kernelspec": {
   "display_name": "Python 3 (ipykernel)",
   "language": "python",
   "name": "python3"
  },
  "language_info": {
   "codemirror_mode": {
    "name": "ipython",
    "version": 3
   },
   "file_extension": ".py",
   "mimetype": "text/x-python",
   "name": "python",
   "nbconvert_exporter": "python",
   "pygments_lexer": "ipython3",
   "version": "3.10.5"
  }
 },
 "nbformat": 4,
 "nbformat_minor": 5
}
