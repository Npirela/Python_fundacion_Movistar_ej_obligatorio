{
 "cells": [
  {
   "cell_type": "code",
   "execution_count": 24,
   "id": "f3152fdc",
   "metadata": {},
   "outputs": [
    {
     "name": "stdout",
     "output_type": "stream",
     "text": [
      "El promedio de La lista [80, 81, 82, 83, 84, 85, 86, 87, 88, 89, 90, 91, 92, 93, 94, 95, 96, 97, 98, 99, 100, 101, 102, 103, 104, 105, 106, 107, 108, 109, 110, 111, 112, 113, 114, 115, 116, 117, 118, 119, 120, 121, 122, 123, 124, 125, 126, 127, 128, 129, 130, 131, 132, 133, 134, 135, 136, 137, 138, 139, 140, 141, 142, 143, 144, 145, 146, 147, 148, 149, 150, 151, 152, 153, 154, 155, 156, 157, 158, 159, 160, 161, 162, 163, 164, 165, 166, 167, 168, 169, 170, 171, 172, 173, 174, 175, 176, 177, 178, 179, 180, 181, 182, 183, 184, 185, 186, 187, 188, 189, 190, 191, 192, 193, 194, 195, 196, 197, 198, 199, 200] es: \n",
      " \n",
      "Promedio = 1.666597222222222\n"
     ]
    }
   ],
   "source": [
    "#lista de 100 numeros\n",
    "listaCreada = []\n",
    "for iterable in range(80,201):\n",
    "    listaCreada.append(iterable)\n",
    "#print(listaCreada)\n",
    "\n",
    "#uso de la lista previamente creada en el Ejercicio #1\n",
    "#print(listaCreada)\n",
    "\n",
    "from functools import reduce\n",
    "\n",
    "promedioLista = (reduce( lambda a, b : (a + b)/ float(1+listaCreada.index((listaCreada[-1])))  , listaCreada) )\n",
    "#\n",
    "\n",
    "print(\"El promedio de La lista {} es: \\n \\nPromedio = {}\".format(listaCreada,promedioLista))\n",
    "\n"
   ]
  },
  {
   "cell_type": "markdown",
   "id": "6af648d6",
   "metadata": {},
   "source": [
    "¡Nota! Esto no es un diagnóstico. Los cálculos que se proporcionan son estimaciones basadas en promedios.\n",
    "Valor promedio\t140\n",
    "Suma de valor\t16940\n",
    "Cuenta promedio\t121\n",
    "Most Greater Value\t200\n",
    "Most Lowest Value\t80\n",
    "Multply by values\t8.815580275870891e+257"
   ]
  },
  {
   "cell_type": "code",
   "execution_count": null,
   "id": "0324cb21",
   "metadata": {},
   "outputs": [],
   "source": []
  }
 ],
 "metadata": {
  "kernelspec": {
   "display_name": "Python 3 (ipykernel)",
   "language": "python",
   "name": "python3"
  },
  "language_info": {
   "codemirror_mode": {
    "name": "ipython",
    "version": 3
   },
   "file_extension": ".py",
   "mimetype": "text/x-python",
   "name": "python",
   "nbconvert_exporter": "python",
   "pygments_lexer": "ipython3",
   "version": "3.10.5"
  }
 },
 "nbformat": 4,
 "nbformat_minor": 5
}
