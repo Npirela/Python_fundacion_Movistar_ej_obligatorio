{
 "cells": [
  {
   "cell_type": "code",
   "execution_count": 150,
   "id": "a283ce17",
   "metadata": {},
   "outputs": [
    {
     "name": "stdout",
     "output_type": "stream",
     "text": [
      "[80, 81, 82, 83, 84, 85, 86, 87, 88, 89, 90, 91, 92, 93, 94, 95, 96, 97, 98, 99, 100, 101, 102, 103, 104, 105, 106, 107, 108, 109, 110, 111, 112, 113, 114, 115, 116, 117, 118, 119, 120, 121, 122, 123, 124, 125, 126, 127, 128, 129, 130, 131, 132, 133, 134, 135, 136, 137, 138, 139, 140, 141, 142, 143, 144, 145, 146, 147, 148, 149, 150, 151, 152, 153, 154, 155, 156, 157, 158, 159, 160, 161, 162, 163, 164, 165, 166, 167, 168, 169, 170, 171, 172, 173, 174, 175, 176, 177, 178, 179, 180, 181, 182, 183, 184, 185, 186, 187, 188, 189, 190, 191, 192, 193, 194, 195, 196, 197, 198, 199, 200]\n",
      "121.0\n",
      "[0, 1, 2, 3, 4, 5, 6, 7, 8, 9, 10, 11, 12, 13, 14, 15, 16, 17, 18, 19, 20, 21, 22, 23, 24, 25, 26, 27, 28, 29, 30, 31, 32, 33, 34, 35, 36, 37, 38, 39, 40, 41, 42, 43, 44, 45, 46, 47, 48, 49, 50, 51, 52, 53, 54, 55, 56, 57, 58, 59, 60, 61, 62, 63, 64, 65, 66, 67, 68, 69, 70, 71, 72, 73, 74, 75, 76, 77, 78, 79, 80, 81, 82, 83, 84, 85, 86, 87, 88, 89, 90, 91, 92, 93, 94, 95, 96, 97, 98, 99, 100, 101, 102, 103, 104, 105, 106, 107, 108, 109, 110, 111, 112, 113, 114, 115, 116, 117, 118, 119, 120]\n",
      "El promedio de La lista [80, 81, 82, 83, 84, 85, 86, 87, 88, 89, 90, 91, 92, 93, 94, 95, 96, 97, 98, 99, 100, 101, 102, 103, 104, 105, 106, 107, 108, 109, 110, 111, 112, 113, 114, 115, 116, 117, 118, 119, 120, 121, 122, 123, 124, 125, 126, 127, 128, 129, 130, 131, 132, 133, 134, 135, 136, 137, 138, 139, 140, 141, 142, 143, 144, 145, 146, 147, 148, 149, 150, 151, 152, 153, 154, 155, 156, 157, 158, 159, 160, 161, 162, 163, 164, 165, 166, 167, 168, 169, 170, 171, 172, 173, 174, 175, 176, 177, 178, 179, 180, 181, 182, 183, 184, 185, 186, 187, 188, 189, 190, 191, 192, 193, 194, 195, 196, 197, 198, 199, 200] es: \n",
      " \n",
      "Promedio = 219.3388429752066\n",
      "121.0\n",
      "[0, 1, 2, 3, 4, 5, 6, 7, 8, 9, 10, 11, 12, 13, 14, 15, 16, 17, 18, 19, 20, 21, 22, 23, 24, 25, 26, 27, 28, 29, 30, 31, 32, 33, 34, 35, 36, 37, 38, 39, 40, 41, 42, 43, 44, 45, 46, 47, 48, 49, 50, 51, 52, 53, 54, 55, 56, 57, 58, 59, 60, 61, 62, 63, 64, 65, 66, 67, 68, 69, 70, 71, 72, 73, 74, 75, 76, 77, 78, 79, 80, 81, 82, 83, 84, 85, 86, 87, 88, 89, 90, 91, 92, 93, 94, 95, 96, 97, 98, 99, 100, 101, 102, 103, 104, 105, 106, 107, 108, 109, 110, 111, 112, 113, 114, 115, 116, 117, 118, 119, 120]\n"
     ]
    }
   ],
   "source": [
    "#lista de 100 numeros\n",
    "listaCreada = []\n",
    "for iterable in range(80,201):\n",
    "    listaCreada.append(iterable)\n",
    "print(listaCreada)\n",
    "\n",
    "#uso de la lista previamente creada en el Ejercicio #1\n",
    "#print(listaCreada)\n",
    "\n",
    "print(1.0+float(listaCreada.index((listaCreada[-1]))) )\n",
    "print([i for i, x in enumerate(listaCreada)])\n",
    "#uso de la lista previamente creada en el Ejercicio #1\n",
    "#print(listaCreada)\n",
    "\n",
    "from functools import reduce\n",
    "\n",
    "promedioLista = (reduce( lambda a,b: a+b/121,listaCreada))\n",
    "\n",
    "print(\"El promedio de La lista {} es: \\n \\nPromedio = {}\".format(listaCreada,promedioLista))\n",
    "print(1.0+float(listaCreada.index((listaCreada[-1]))) )\n",
    "print([i for i, x in enumerate(listaCreada)])\n"
   ]
  },
  {
   "cell_type": "markdown",
   "id": "6c2eb944",
   "metadata": {},
   "source": [
    "¡Nota! Esto no es un diagnóstico. Los cálculos que se proporcionan son estimaciones basadas en promedios.\n",
    "Valor promedio\t140\n",
    "Suma de valor\t16940\n",
    "Cuenta promedio\t121\n",
    "Most Greater Value\t200\n",
    "Most Lowest Value\t80\n",
    "Multply by values\t8.815580275870891e+257"
   ]
  },
  {
   "cell_type": "code",
   "execution_count": null,
   "id": "25301845",
   "metadata": {},
   "outputs": [],
   "source": [
    "#      for i in notas:\n",
    "                \n",
    "                #while i<1 and i>10 and i != 0 :\n",
    "                 #   if i>=1 and i<=10:\n",
    "                  #      self.notas = notas.appedn\n",
    "            \n",
    "                 #  elif i<1 and i>10: \n",
    "                  #      self.notas = notas.appedn(input(\"Ingrese sus notas, entre 1 y 10, escriba 0 al terminar de ingresarlas: \"))\n",
    "            \n",
    "                   # else :\n",
    "                    #    print(\"Termino la carga de Notas.\")\n",
    "                    \n",
    "                    \n",
    "                    \n",
    "                    \n",
    "                     \n",
    "        def get_notas (self):\n",
    "            \n",
    "            for i in self.notas:\n",
    "                while i != 0 :\n",
    "                    if i>=1 and i<=10:\n",
    "                        self.notas=notas.appedn(int(input(\"Ingrese sus notas, entre 1 y 10, escriba 0 al terminar de ingresarlas: \")))\n",
    "                    elif i<1 and i>10: \n",
    "                        self.notas=notas.appedn(int(input(\"Ingrese sus notas, entre 1 y 10, escriba 0 al terminar de ingresarlas: \")))\n",
    "                    else :\n",
    "                        print(\"Termino la carga de Notas.\")\n",
    "                        \n",
    "                        \n",
    "                        \n",
    "                     \n",
    "        def get_notas(self):\n",
    "        \n",
    "            for i in self.__notas:\n",
    "                while i != 0 :\n",
    "                    if i>=1 and i<=10:\n",
    "                        self.__notas=notas.appedn\n",
    "                    elif i<1 and i>10: \n",
    "                        self.__notas=notas.appedn(int(input(\"Ingrese sus notas, entre 1 y 10, escriba 0 al terminar de ingresarlas: \")))\n",
    "                    else :\n",
    "                        print(\"Termino la carga de Notas.\")\n",
    "            return self.__notas\n",
    "            \n",
    "        def set_notas(self, self__notas):\n",
    "            return self.__notas   \n",
    "                        \n",
    "                        "
   ]
  },
  {
   "cell_type": "code",
   "execution_count": null,
   "id": "14852cff",
   "metadata": {},
   "outputs": [],
   "source": []
  },
  {
   "cell_type": "code",
   "execution_count": 151,
   "id": "d2b89d3e",
   "metadata": {},
   "outputs": [
    {
     "name": "stdout",
     "output_type": "stream",
     "text": [
      "numeros 0\n",
      "['0']\n"
     ]
    }
   ],
   "source": [
    "lista=[input(\"numeros \")]\n",
    "\n",
    "print(lista)"
   ]
  },
  {
   "cell_type": "code",
   "execution_count": null,
   "id": "19e75007",
   "metadata": {},
   "outputs": [],
   "source": []
  }
 ],
 "metadata": {
  "kernelspec": {
   "display_name": "Python 3 (ipykernel)",
   "language": "python",
   "name": "python3"
  },
  "language_info": {
   "codemirror_mode": {
    "name": "ipython",
    "version": 3
   },
   "file_extension": ".py",
   "mimetype": "text/x-python",
   "name": "python",
   "nbconvert_exporter": "python",
   "pygments_lexer": "ipython3",
   "version": "3.10.5"
  }
 },
 "nbformat": 4,
 "nbformat_minor": 5
}
