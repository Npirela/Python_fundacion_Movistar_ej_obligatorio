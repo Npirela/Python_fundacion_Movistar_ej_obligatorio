{
 "cells": [
  {
   "cell_type": "markdown",
   "id": "06c361ad",
   "metadata": {},
   "source": [
    "<div class=\"jumbotron\">\n",
    "      <h1>Nolberto Pirela</h1>\n",
    "          <p>Entrega de Trabajo Final #2</p>\n",
    "  \n",
    "</div>"
   ]
  },
  {
   "cell_type": "markdown",
   "id": "9749b2ac",
   "metadata": {},
   "source": [
    "<div class=\"alert alert-info\" role=\"alert\">\n",
    "    <p><span><b>Ejercicio 1.</b></span>\n",
    "        \n",
    "1.1) Generar una lista que contenga los números del 1 al 100, usando un\n",
    "FOR. <br>\n",
    "1.2) Escribir una función lambda, usando FILTER, que me devuelva, en\n",
    "formato LISTA, todos los números pares que también sean múltiplos de 5,\n",
    "contenidos en dicha lista.</p>\n",
    "</div>"
   ]
  },
  {
   "cell_type": "code",
   "execution_count": 18,
   "id": "21b26dbf",
   "metadata": {},
   "outputs": [
    {
     "name": "stdout",
     "output_type": "stream",
     "text": [
      "De la listas de numeros # [1, 2, 3, 4, 5, 6, 7, 8, 9, 10, 11, 12, 13, 14, 15, 16, 17, 18, 19, 20, 21, 22, 23, 24, 25, 26, 27, 28, 29, 30, 31, 32, 33, 34, 35, 36, 37, 38, 39, 40, 41, 42, 43, 44, 45, 46, 47, 48, 49, 50, 51, 52, 53, 54, 55, 56, 57, 58, 59, 60, 61, 62, 63, 64, 65, 66, 67, 68, 69, 70, 71, 72, 73, 74, 75, 76, 77, 78, 79, 80, 81, 82, 83, 84, 85, 86, 87, 88, 89, 90, 91, 92, 93, 94, 95, 96, 97, 98, 99, 100] \n",
      " \n",
      "Los siguentes son Pares y Multiplos de 5 [10, 20, 30, 40, 50, 60, 70, 80, 90, 100] \n"
     ]
    }
   ],
   "source": [
    "#lista de 100 numeros\n",
    "listaCreada = []\n",
    "for iterable in range(1,101):\n",
    "    listaCreada.append(iterable)\n",
    "#print(listaCreada)\n",
    "\n",
    "#Funcion Lambda\n",
    "listaFiltrada =list(filter(lambda numEval:numEval%2==0 and numEval%5==0, listaCreada))   \n",
    "print(\"De la listas de numeros # {} \\n \\nLos siguentes son Pares y Multiplos de 5 {} \".format(listaCreada,listaFiltrada))\n",
    "\n"
   ]
  },
  {
   "cell_type": "markdown",
   "id": "21201d55",
   "metadata": {},
   "source": [
    "<div class=\"alert alert-info\" role=\"alert\">\n",
    "    <p><span><b>Ejercicio 2.</b></span>\n",
    "        \n",
    "Generar una lista, usando FOR con números del 1 al 100.\n",
    "Escribir una función lambda, usando REDUCE que me permita calcular el\n",
    "promedio de todos los números contenidos en la lista.\n",
    "No usar funciones tradicionales</p>\n",
    "</div>"
   ]
  },
  {
   "cell_type": "code",
   "execution_count": null,
   "id": "4a0916a7",
   "metadata": {},
   "outputs": [],
   "source": []
  }
 ],
 "metadata": {
  "kernelspec": {
   "display_name": "Python 3 (ipykernel)",
   "language": "python",
   "name": "python3"
  },
  "language_info": {
   "codemirror_mode": {
    "name": "ipython",
    "version": 3
   },
   "file_extension": ".py",
   "mimetype": "text/x-python",
   "name": "python",
   "nbconvert_exporter": "python",
   "pygments_lexer": "ipython3",
   "version": "3.10.5"
  }
 },
 "nbformat": 4,
 "nbformat_minor": 5
}
