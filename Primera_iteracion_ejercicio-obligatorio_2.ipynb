{
 "cells": [
  {
   "cell_type": "markdown",
   "id": "4b92dae6",
   "metadata": {},
   "source": [
    "<div class=\"jumbotron\">\n",
    "      <h1>Nolberto Pirela</h1>\n",
    "          <p>Entrega de Trabajo Final #2</p>\n",
    "  \n",
    "</div>"
   ]
  },
  {
   "cell_type": "markdown",
   "id": "148fd61b",
   "metadata": {},
   "source": [
    "<div class=\"alert alert-info\" role=\"alert\">\n",
    "    <p><span><b>Ejercicio 1.</b></span>\n",
    "        \n",
    "1.1) Generar una lista que contenga los números del 1 al 100, usando un\n",
    "FOR. <br>\n",
    "1.2) Escribir una función lambda, usando FILTER, que me devuelva, en\n",
    "formato LISTA, todos los números pares que también sean múltiplos de 5,\n",
    "contenidos en dicha lista.</p>\n",
    "</div>"
   ]
  },
  {
   "cell_type": "code",
   "execution_count": 18,
   "id": "c8a5790b",
   "metadata": {},
   "outputs": [
    {
     "name": "stdout",
     "output_type": "stream",
     "text": [
      "De la listas de numeros # [1, 2, 3, 4, 5, 6, 7, 8, 9, 10, 11, 12, 13, 14, 15, 16, 17, 18, 19, 20, 21, 22, 23, 24, 25, 26, 27, 28, 29, 30, 31, 32, 33, 34, 35, 36, 37, 38, 39, 40, 41, 42, 43, 44, 45, 46, 47, 48, 49, 50, 51, 52, 53, 54, 55, 56, 57, 58, 59, 60, 61, 62, 63, 64, 65, 66, 67, 68, 69, 70, 71, 72, 73, 74, 75, 76, 77, 78, 79, 80, 81, 82, 83, 84, 85, 86, 87, 88, 89, 90, 91, 92, 93, 94, 95, 96, 97, 98, 99, 100] \n",
      " \n",
      "Los siguentes son Pares y Multiplos de 5 [10, 20, 30, 40, 50, 60, 70, 80, 90, 100] \n"
     ]
    }
   ],
   "source": [
    "#lista de 100 numeros\n",
    "listaCreada = []\n",
    "for iterable in range(1,101):\n",
    "    listaCreada.append(iterable)\n",
    "#print(listaCreada)\n",
    "\n",
    "#Funcion Lambda\n",
    "listaFiltrada =list(filter(lambda numEval:numEval%2==0 and numEval%5==0, listaCreada))   \n",
    "print(\"De la listas de numeros # {} \\n \\nLos siguentes son Pares y Multiplos de 5 {} \".format(listaCreada,listaFiltrada))\n",
    "\n"
   ]
  },
  {
   "cell_type": "markdown",
   "id": "8a5b3226",
   "metadata": {},
   "source": [
    "<div class=\"alert alert-info\" role=\"alert\">\n",
    "    <p><span><b>Ejercicio 2.</b></span>\n",
    "        \n",
    "Generar una lista, usando FOR con números del 1 al 100.\n",
    "Escribir una función lambda, usando REDUCE que me permita calcular el\n",
    "promedio de todos los números contenidos en la lista.\n",
    "No usar funciones tradicionales</p>\n",
    "</div>"
   ]
  },
  {
   "cell_type": "markdown",
   "id": "fe2f65b2",
   "metadata": {},
   "source": [
    "## Iteracion 1"
   ]
  },
  {
   "cell_type": "code",
   "execution_count": 126,
   "id": "e2906976",
   "metadata": {},
   "outputs": [
    {
     "ename": "TypeError",
     "evalue": "reduce expected at least 2 arguments, got 1",
     "output_type": "error",
     "traceback": [
      "\u001b[1;31m---------------------------------------------------------------------------\u001b[0m",
      "\u001b[1;31mTypeError\u001b[0m                                 Traceback (most recent call last)",
      "Input \u001b[1;32mIn [126]\u001b[0m, in \u001b[0;36m<cell line: 5>\u001b[1;34m()\u001b[0m\n\u001b[0;32m      1\u001b[0m \u001b[38;5;66;03m#uso de la lista previamente creada en el Ejercicio #1\u001b[39;00m\n\u001b[0;32m      2\u001b[0m \u001b[38;5;66;03m#print(listaCreada)\u001b[39;00m\n\u001b[0;32m      4\u001b[0m \u001b[38;5;28;01mfrom\u001b[39;00m \u001b[38;5;21;01mfunctools\u001b[39;00m \u001b[38;5;28;01mimport\u001b[39;00m reduce\n\u001b[1;32m----> 5\u001b[0m promedioLista \u001b[38;5;241m=\u001b[39m (reduce( \u001b[38;5;28;01mlambda\u001b[39;00m a, b : a \u001b[38;5;241m+\u001b[39m b  , listaCreada))\u001b[38;5;241m/\u001b[39m(\u001b[43mreduce\u001b[49m\u001b[43m(\u001b[49m\u001b[38;5;28;43mlist\u001b[39;49m\u001b[43m(\u001b[49m\u001b[38;5;28;43mmap\u001b[39;49m\u001b[43m(\u001b[49m\u001b[43m \u001b[49m\u001b[38;5;28;43;01mlambda\u001b[39;49;00m\u001b[43m \u001b[49m\u001b[43ma\u001b[49m\u001b[43m \u001b[49m\u001b[43m:\u001b[49m\u001b[43m \u001b[49m\u001b[43ma\u001b[49m\u001b[43m \u001b[49m\u001b[43m,\u001b[49m\u001b[43m \u001b[49m\u001b[43mlistaCreada\u001b[49m\u001b[43m)\u001b[49m\u001b[43m)\u001b[49m\u001b[43m)\u001b[49m)\n\u001b[0;32m      7\u001b[0m \u001b[38;5;28mprint\u001b[39m(\u001b[38;5;124m\"\u001b[39m\u001b[38;5;124mEl promedio de La lista \u001b[39m\u001b[38;5;132;01m{}\u001b[39;00m\u001b[38;5;124m es: \u001b[39m\u001b[38;5;130;01m\\n\u001b[39;00m\u001b[38;5;124m \u001b[39m\u001b[38;5;130;01m\\n\u001b[39;00m\u001b[38;5;124mPromedio = \u001b[39m\u001b[38;5;132;01m{}\u001b[39;00m\u001b[38;5;124m\"\u001b[39m\u001b[38;5;241m.\u001b[39mformat(listaCreada,promedioLista))\n",
      "\u001b[1;31mTypeError\u001b[0m: reduce expected at least 2 arguments, got 1"
     ]
    }
   ],
   "source": [
    "#uso de la lista previamente creada en el Ejercicio #1\n",
    "#print(listaCreada)\n",
    "\n",
    "from functools import reduce\n",
    "promedioLista = (reduce( lambda a, b : a + b  , listaCreada))/(reduce(list(map( lambda a : a , listaCreada))))\n",
    "\n",
    "print(\"El promedio de La lista {} es: \\n \\nPromedio = {}\".format(listaCreada,promedioLista))\n",
    " \n"
   ]
  },
  {
   "cell_type": "markdown",
   "id": "37584d22",
   "metadata": {},
   "source": [
    "## Iteracion 2 con len()"
   ]
  },
  {
   "cell_type": "code",
   "execution_count": null,
   "id": "d0f04c8b",
   "metadata": {},
   "outputs": [],
   "source": [
    "#uso de la lista previamente creada en el Ejercicio #1\n",
    "#print(listaCreada)\n",
    "\n",
    "from functools import reduce\n",
    "promedioLista = (reduce( lambda a, b : a + b  , listaCreada))/len(listaCreada)\n",
    "\n",
    "print(\"El promedio de La lista {} es: \\n \\nPromedio = {}\".format(listaCreada,promedioLista))"
   ]
  }
 ],
 "metadata": {
  "kernelspec": {
   "display_name": "Python 3 (ipykernel)",
   "language": "python",
   "name": "python3"
  },
  "language_info": {
   "codemirror_mode": {
    "name": "ipython",
    "version": 3
   },
   "file_extension": ".py",
   "mimetype": "text/x-python",
   "name": "python",
   "nbconvert_exporter": "python",
   "pygments_lexer": "ipython3",
   "version": "3.10.5"
  }
 },
 "nbformat": 4,
 "nbformat_minor": 5
}
