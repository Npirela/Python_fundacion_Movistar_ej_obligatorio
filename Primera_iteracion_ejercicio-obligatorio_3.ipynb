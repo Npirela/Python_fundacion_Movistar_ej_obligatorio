{
 "cells": [
  {
   "cell_type": "markdown",
   "id": "c377ee46",
   "metadata": {},
   "source": [
    "<div class=\"jumbotron\">\n",
    "      <h1>Nolberto Pirela</h1>\n",
    "          <p>Entrega de Trabajo Final #3</p>\n",
    "  \n",
    "</div>"
   ]
  },
  {
   "cell_type": "markdown",
   "id": "9c5205c9",
   "metadata": {},
   "source": [
    "<div class=\"alert alert-info\" role=\"alert\">\n",
    "    <p><span><b>Ejercicio 1.</b></span>\n",
    "        \n",
    "\n",
    "Escribir una clase llamada “Alumno” que contenga los siguientes atributos: <br>\n",
    "Nombre <br>\n",
    "Apellido <br>\n",
    "Notas (este atributo debe ser una lista) <br>\n",
    "Escribir el método constructor para que, al instanciar la clase, pida por\n",
    "teclado el Nombre, el Apellido y una serie de notas, tantas como quiera\n",
    "ingresar el usuario. <br>\n",
    "Las notas deberán estar comprendidas entre 1 y 10, caso contrario mostrar\n",
    "mensaje de error y volver a solicitar. <br>\n",
    "El ingreso de notas acaba cuando el usuario ingresa el valor 0 (cero)\n",
    "Sobre escribir el método STR para que, al mostrar el objeto por pantalla,\n",
    "muestre los datos de la siguiente manera: <br>\n",
    "Nombre: (valor ingresado) <br>\n",
    "Apellido: (valor ingresado) <br>\n",
    "Promedio: (promedio de las notas ingresadas) <br>\n",
    "Estado: Si el promedio es mayor o igual a 7, mostrar la palabra <br>\n",
    "“Promociona”, si es menor a 7 pero mayor o igual a 4, mostrar la palabra\n",
    "“Final” y por último, si el promedio es menor a 4, mostrar la palabra\n",
    "“Recursa”..</p>\n",
    "</div>"
   ]
  },
  {
   "cell_type": "markdown",
   "id": "aadfca6c",
   "metadata": {},
   "source": [
    "## Iteracion 1 - dentro del Constructor"
   ]
  },
  {
   "cell_type": "code",
   "execution_count": 13,
   "id": "cd07310f",
   "metadata": {},
   "outputs": [
    {
     "name": "stdout",
     "output_type": "stream",
     "text": [
      "Ingrese Su Nombre: f\n",
      "Ingrese Su apellido: f\n",
      "ingese su nota entre uno 1 y 10, Ingrese 0 para finalizar la carga  1\n",
      "ingese su nota entre uno 1 y 10, Ingrese 0 para finalizar la carga  5\n",
      "ingese su nota entre uno 1 y 10, Ingrese 0 para finalizar la carga  8\n",
      "ingese su nota entre uno 1 y 10, Ingrese 0 para finalizar la carga  9\n",
      "ingese su nota entre uno 1 y 10, Ingrese 0 para finalizar la carga  65\n",
      "ingese su nota entre uno 1 y 10, Ingrese 0 para finalizar la carga  4\n",
      "ingese su nota entre uno 1 y 10, Ingrese 0 para finalizar la carga  5\n",
      "ingese su nota entre uno 1 y 10, Ingrese 0 para finalizar la carga  0\n",
      "Has cargado 6 notas\n",
      "Nombre: f\n",
      " Apellido: f\n",
      " promedio: 5.333333333333333\n",
      " Estado: Final\n"
     ]
    }
   ],
   "source": [
    "    class Alumno :\n",
    "\n",
    "        \n",
    "        def __init__(self):\n",
    "       \n",
    "            self.nombre = input(\"Ingrese Su Nombre: \")\n",
    "            self.apellido = input(\"Ingrese Su apellido: \")\n",
    "            self.notas = []\n",
    "            \n",
    "            i=''\n",
    "            while i != 0 :\n",
    "                i=(int(input(\"ingese su nota entre uno 1 y 10, Ingrese 0 para finalizar la carga  \")))\n",
    "                if i >=1 and i<=10:\n",
    "                    self.notas.append(i)\n",
    "                elif i <1 and i >10 :\n",
    "                    i=(int(input(\"ingese su nota Deben estar comprendidas entre 1 y 10 \")))\n",
    "                elif i==0:\n",
    "                    print(\"Has cargado {} notas\".format(len(self.notas)))\n",
    "                    \n",
    "            \n",
    "            self.prom =  sum(self.notas)/len(self.notas)\n",
    "            \n",
    "            self.estatus =''\n",
    "            \n",
    "            if self.prom >= 7 :\n",
    "                self.estatus = 'Promociona'\n",
    "            elif self.prom >= 4 and self.prom <=7 :\n",
    "                self.estatus = 'Final'\n",
    "            else:\n",
    "                self.estatus = 'Recursa'\n",
    "        \n",
    "           \n",
    "        \n",
    "        \n",
    "        def __str__(self):\n",
    "            showScreen = 'Nombre: '+self.nombre+'\\nApellido: '+self.apellido+'\\npromedio: '+str(self.prom)+'\\nEstado: '+self.estatus\n",
    "            return showScreen\n",
    "           \n",
    "                \n",
    "        \n",
    "        \n",
    "alu1=Alumno()\n",
    "print(alu1)"
   ]
  },
  {
   "cell_type": "markdown",
   "id": "8ef5eae0",
   "metadata": {},
   "source": [
    "## Iteracion 2"
   ]
  },
  {
   "cell_type": "code",
   "execution_count": 16,
   "id": "5f6bf476",
   "metadata": {},
   "outputs": [
    {
     "ename": "SyntaxError",
     "evalue": "invalid syntax (2772622182.py, line 25)",
     "output_type": "error",
     "traceback": [
      "\u001b[1;36m  Input \u001b[1;32mIn [16]\u001b[1;36m\u001b[0m\n\u001b[1;33m    def promedio(self, self.__notas)\u001b[0m\n\u001b[1;37m                           ^\u001b[0m\n\u001b[1;31mSyntaxError\u001b[0m\u001b[1;31m:\u001b[0m invalid syntax\n"
     ]
    }
   ],
   "source": [
    "    class Alumno2 :\n",
    "\n",
    "        \n",
    "        def __init__(self):\n",
    "            \n",
    "            self.nombre2= input(\"Ingrese Su Nombre: \")\n",
    "            self.apellido2= input(\"Ingrese Su apellido: \")\n",
    "            self.__notas2= []\n",
    "            \n",
    "        def get_notas(self):\n",
    "        \n",
    "            return self.__notas2\n",
    "            \n",
    "        def set_notas(self, self__notas2):\n",
    "            for i in self.__notas2:\n",
    "                while i != 0 :\n",
    "                    if i>=1 and i<=10:\n",
    "                        self.__notas=notas.appedn\n",
    "                    elif i<1 and i>10: \n",
    "                        self.__notas=notas.appedn(int(input(\"Ingrese sus notas, entre 1 y 10, escriba 0 al terminar de ingresarlas: \")))\n",
    "                    else :\n",
    "                        print(\"Termino la carga de Notas.\")\n",
    "            return self.__notas\n",
    "        \n",
    "        def promedio(self, self.__notas)\n",
    "        \n",
    "            prom = sum(self__notas)/len(self.__notas2)\n",
    "            return prom\n",
    "        \n",
    "        def estatus(self, prom.promedio())\n",
    "        \n",
    "            estatus =''\n",
    "            \n",
    "            if prom >= 7 :\n",
    "                estatus = 'Promociona'\n",
    "            elif prom >= 4 and prom <=7 :\n",
    "                estatus = 'Final'\n",
    "            else:\n",
    "                estatus = 'Recursa'\n",
    "            return estatus\n",
    "        def __str__(self):\n",
    "        showScreen = 'Nombre: '+self.nombre+'\\nApellido: '+self.apellido+'\\npromedio: '+str(self.prom)+'\\nEstado: '+self.estatus\n",
    "        return showScreen\n",
    "           \n",
    "alu2=Alumno2()\n",
    "print(alu2)    "
   ]
  },
  {
   "cell_type": "code",
   "execution_count": null,
   "id": "0bf0bc39",
   "metadata": {},
   "outputs": [],
   "source": []
  }
 ],
 "metadata": {
  "kernelspec": {
   "display_name": "Python 3 (ipykernel)",
   "language": "python",
   "name": "python3"
  },
  "language_info": {
   "codemirror_mode": {
    "name": "ipython",
    "version": 3
   },
   "file_extension": ".py",
   "mimetype": "text/x-python",
   "name": "python",
   "nbconvert_exporter": "python",
   "pygments_lexer": "ipython3",
   "version": "3.10.5"
  }
 },
 "nbformat": 4,
 "nbformat_minor": 5
}
